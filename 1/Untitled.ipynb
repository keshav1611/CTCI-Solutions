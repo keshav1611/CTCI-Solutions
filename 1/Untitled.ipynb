{
 "cells": [
  {
   "cell_type": "code",
   "execution_count": 1,
   "metadata": {},
   "outputs": [],
   "source": [
    "import numpy as np"
   ]
  },
  {
   "cell_type": "code",
   "execution_count": 15,
   "metadata": {},
   "outputs": [],
   "source": [
    "def rotMatrix(matrix):\n",
    "    n = len(matrix)\n",
    "    for i in range(int(n/2)):\n",
    "        for j in range(i+1,n-i-1):\n",
    "            i1 = i\n",
    "            i2 = j\n",
    "            temp = matrix[i1,i2]\n",
    "            while i != n-i2-1 or j != i1:\n",
    "                matrix[i1,i2] = matrix[n-i2-1,i1]\n",
    "                prev = i2\n",
    "                i2 = i1\n",
    "                i1 = n-prev-1\n",
    "            matrix[i1,i2] = temp\n",
    "    return matrix"
   ]
  },
  {
   "cell_type": "code",
   "execution_count": 22,
   "metadata": {},
   "outputs": [],
   "source": [
    "mat = np.random.randint(100, size=(3,3))"
   ]
  },
  {
   "cell_type": "code",
   "execution_count": 23,
   "metadata": {},
   "outputs": [
    {
     "data": {
      "text/plain": [
       "array([[72, 46, 56],\n",
       "       [ 1,  8, 76],\n",
       "       [86, 77, 58]])"
      ]
     },
     "execution_count": 23,
     "metadata": {},
     "output_type": "execute_result"
    }
   ],
   "source": [
    "mat"
   ]
  },
  {
   "cell_type": "code",
   "execution_count": 24,
   "metadata": {},
   "outputs": [
    {
     "data": {
      "text/plain": [
       "array([[72,  1, 56],\n",
       "       [77,  8, 46],\n",
       "       [86, 76, 58]])"
      ]
     },
     "execution_count": 24,
     "metadata": {},
     "output_type": "execute_result"
    }
   ],
   "source": [
    "# start = timeit.default_timer()\n",
    "nmat = rotMatrix(mat)\n",
    "# stop = timeit.default_timer()\n",
    "# print('Time: ', stop - start)\n",
    "nmat"
   ]
  },
  {
   "cell_type": "code",
   "execution_count": null,
   "metadata": {},
   "outputs": [],
   "source": []
  }
 ],
 "metadata": {
  "kernelspec": {
   "display_name": "Python 3",
   "language": "python",
   "name": "python3"
  },
  "language_info": {
   "codemirror_mode": {
    "name": "ipython",
    "version": 3
   },
   "file_extension": ".py",
   "mimetype": "text/x-python",
   "name": "python",
   "nbconvert_exporter": "python",
   "pygments_lexer": "ipython3",
   "version": "3.7.3"
  }
 },
 "nbformat": 4,
 "nbformat_minor": 2
}
