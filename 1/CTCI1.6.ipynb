{
 "cells": [
  {
   "cell_type": "code",
   "execution_count": 6,
   "metadata": {},
   "outputs": [],
   "source": [
    "import timeit"
   ]
  },
  {
   "cell_type": "code",
   "execution_count": 20,
   "metadata": {},
   "outputs": [],
   "source": [
    "def compression(string):\n",
    "    count = 0\n",
    "    compStr = ''\n",
    "    for i in range(len(string)):\n",
    "        count += 1\n",
    "        if(i+1 >= len(string) or string[i] != string[i+1]):\n",
    "            compStr += string[i] + str(count)\n",
    "            count = 0\n",
    "    return compStr"
   ]
  },
  {
   "cell_type": "code",
   "execution_count": 29,
   "metadata": {},
   "outputs": [],
   "source": [
    "def compression2(string):\n",
    "    count = 0\n",
    "    compStr = []\n",
    "    for i in range(len(string)):\n",
    "        count += 1\n",
    "        if(i+1 >= len(string) or string[i] != string[i+1]):\n",
    "            compStr.append(string[i])\n",
    "            compStr.append(str(count))\n",
    "            count = 0\n",
    "    return ''.join(compStr)"
   ]
  },
  {
   "cell_type": "code",
   "execution_count": 37,
   "metadata": {},
   "outputs": [
    {
     "name": "stdout",
     "output_type": "stream",
     "text": [
      "a7b8c10a6u8i8h6c5n5g6m6e5t8s5j6z6l6\n",
      "Time:  0.00034289500001705164\n"
     ]
    }
   ],
   "source": [
    "start = timeit.default_timer()\n",
    "print(compression('aaaaaaabbbbbbbbccccccccccaaaaaauuuuuuuuiiiiiiiihhhhhhcccccnnnnnggggggmmmmmmeeeeettttttttsssssjjjjjjzzzzzzllllll'))\n",
    "stop = timeit.default_timer()\n",
    "print('Time: ', stop - start)"
   ]
  },
  {
   "cell_type": "code",
   "execution_count": 38,
   "metadata": {},
   "outputs": [
    {
     "name": "stdout",
     "output_type": "stream",
     "text": [
      "a7b8c10a6u8i8h6c5n5g6m6e5t8s5j6z6l6\n",
      "Time:  0.0003103830000554808\n"
     ]
    }
   ],
   "source": [
    "start = timeit.default_timer()\n",
    "print(compression2('aaaaaaabbbbbbbbccccccccccaaaaaauuuuuuuuiiiiiiiihhhhhhcccccnnnnnggggggmmmmmmeeeeettttttttsssssjjjjjjzzzzzzllllll'))\n",
    "stop = timeit.default_timer()\n",
    "print('Time: ', stop - start)"
   ]
  },
  {
   "cell_type": "code",
   "execution_count": null,
   "metadata": {},
   "outputs": [],
   "source": []
  }
 ],
 "metadata": {
  "kernelspec": {
   "display_name": "Python 3",
   "language": "python",
   "name": "python3"
  },
  "language_info": {
   "codemirror_mode": {
    "name": "ipython",
    "version": 3
   },
   "file_extension": ".py",
   "mimetype": "text/x-python",
   "name": "python",
   "nbconvert_exporter": "python",
   "pygments_lexer": "ipython3",
   "version": "3.7.3"
  }
 },
 "nbformat": 4,
 "nbformat_minor": 2
}
