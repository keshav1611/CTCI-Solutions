{
 "cells": [
  {
   "cell_type": "code",
   "execution_count": 44,
   "metadata": {},
   "outputs": [],
   "source": [
    "import timeit"
   ]
  },
  {
   "cell_type": "code",
   "execution_count": 45,
   "metadata": {},
   "outputs": [],
   "source": [
    "def oneWay(first, second):\n",
    "    if(abs(len(first) - len(second)) > 1):\n",
    "        return False\n",
    "    if(len(first) - len(second) == 1):\n",
    "        return checkInsert(second, first)\n",
    "    elif(len(second) - len(first) == 1):\n",
    "        return checkInsert(first, second)\n",
    "    else:\n",
    "        return checkReplace(first, second)"
   ]
  },
  {
   "cell_type": "code",
   "execution_count": 46,
   "metadata": {},
   "outputs": [],
   "source": [
    "def checkInsert(str1, str2):\n",
    "    i1 = 0\n",
    "    i2 = 0\n",
    "    while i1 < len(str1):\n",
    "        if(str1[i1] != str2[i2]):\n",
    "            if(i1 != i2):\n",
    "                return False\n",
    "            i2 += 1\n",
    "        else:\n",
    "            i1 += 1\n",
    "            i2 += 1\n",
    "    return True"
   ]
  },
  {
   "cell_type": "code",
   "execution_count": 47,
   "metadata": {},
   "outputs": [],
   "source": [
    "def checkReplace(str1, str2):\n",
    "    edit = 0\n",
    "    for i in range(len(str1)):\n",
    "        if(str1[i] != str2[i]):\n",
    "            edit += 1\n",
    "            if(edit > 1):\n",
    "                return False\n",
    "    return True"
   ]
  },
  {
   "cell_type": "code",
   "execution_count": 52,
   "metadata": {},
   "outputs": [
    {
     "name": "stdout",
     "output_type": "stream",
     "text": [
      "False\n",
      "Time:  0.0003280119999544695\n"
     ]
    }
   ],
   "source": [
    "start = timeit.default_timer()\n",
    "res = oneWay('apple','qwple')\n",
    "print(res)\n",
    "stop = timeit.default_timer()\n",
    "print('Time: ',stop - start)"
   ]
  },
  {
   "cell_type": "code",
   "execution_count": null,
   "metadata": {},
   "outputs": [],
   "source": []
  }
 ],
 "metadata": {
  "kernelspec": {
   "display_name": "Python 3",
   "language": "python",
   "name": "python3"
  },
  "language_info": {
   "codemirror_mode": {
    "name": "ipython",
    "version": 3
   },
   "file_extension": ".py",
   "mimetype": "text/x-python",
   "name": "python",
   "nbconvert_exporter": "python",
   "pygments_lexer": "ipython3",
   "version": "3.7.3"
  }
 },
 "nbformat": 4,
 "nbformat_minor": 2
}
