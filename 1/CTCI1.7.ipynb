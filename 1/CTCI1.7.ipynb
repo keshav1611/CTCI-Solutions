{
 "cells": [
  {
   "cell_type": "code",
   "execution_count": 138,
   "metadata": {},
   "outputs": [],
   "source": [
    "import timeit\n",
    "import numpy as np"
   ]
  },
  {
   "cell_type": "code",
   "execution_count": 139,
   "metadata": {},
   "outputs": [],
   "source": [
    "def rotMatrix(matrix):\n",
    "    n = len(matrix)\n",
    "    for i in range(int(n/2)):\n",
    "        for j in range(i,n-i-1):\n",
    "            i1 = i\n",
    "            i2 = j\n",
    "            temp = matrix[i1,i2]\n",
    "            while i != i2 or j != n-i1-1:\n",
    "                matrix[i1,i2] = matrix[i2,n-i1-1]\n",
    "                prev = i1\n",
    "                i1 = i2\n",
    "                i2 = n-prev-1\n",
    "            matrix[i1,i2] = temp\n",
    "    return matrix"
   ]
  },
  {
   "cell_type": "code",
   "execution_count": 143,
   "metadata": {},
   "outputs": [],
   "source": [
    "mat = np.random.randint(100, size=(5,5))"
   ]
  },
  {
   "cell_type": "code",
   "execution_count": 144,
   "metadata": {},
   "outputs": [
    {
     "data": {
      "text/plain": [
       "array([[98, 82, 61, 30, 36],\n",
       "       [ 8, 50, 67, 39, 33],\n",
       "       [52, 59, 85, 40, 50],\n",
       "       [29, 82, 76, 98, 81],\n",
       "       [66, 38, 17, 28,  0]])"
      ]
     },
     "execution_count": 144,
     "metadata": {},
     "output_type": "execute_result"
    }
   ],
   "source": [
    "mat"
   ]
  },
  {
   "cell_type": "code",
   "execution_count": 146,
   "metadata": {
    "scrolled": true
   },
   "outputs": [
    {
     "name": "stdout",
     "output_type": "stream",
     "text": [
      "Time:  8.843100022204453e-05\n"
     ]
    },
    {
     "data": {
      "text/plain": [
       "array([[ 0, 28, 17, 38, 66],\n",
       "       [81, 98, 76, 82, 29],\n",
       "       [50, 40, 85, 59, 52],\n",
       "       [33, 39, 67, 50,  8],\n",
       "       [36, 30, 61, 82, 98]])"
      ]
     },
     "execution_count": 146,
     "metadata": {},
     "output_type": "execute_result"
    }
   ],
   "source": [
    "start = timeit.default_timer()\n",
    "nmat = rotMatrix(mat)\n",
    "stop = timeit.default_timer()\n",
    "print('Time: ', stop - start)\n",
    "nmat"
   ]
  },
  {
   "cell_type": "code",
   "execution_count": null,
   "metadata": {},
   "outputs": [],
   "source": []
  }
 ],
 "metadata": {
  "kernelspec": {
   "display_name": "Python 3",
   "language": "python",
   "name": "python3"
  },
  "language_info": {
   "codemirror_mode": {
    "name": "ipython",
    "version": 3
   },
   "file_extension": ".py",
   "mimetype": "text/x-python",
   "name": "python",
   "nbconvert_exporter": "python",
   "pygments_lexer": "ipython3",
   "version": "3.7.3"
  }
 },
 "nbformat": 4,
 "nbformat_minor": 2
}
