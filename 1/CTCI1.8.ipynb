{
 "cells": [
  {
   "cell_type": "code",
   "execution_count": 1,
   "metadata": {},
   "outputs": [],
   "source": [
    "import timeit\n",
    "import numpy as np"
   ]
  },
  {
   "cell_type": "code",
   "execution_count": 2,
   "metadata": {},
   "outputs": [],
   "source": [
    "def zeroMatrix(matrix):\n",
    "    rows = []\n",
    "    columns = []\n",
    "    for i in range(len(matrix)):\n",
    "        for j in range(len(matrix[0])):\n",
    "            if(matrix[i][j] == 0):\n",
    "                rows.append(i)\n",
    "                columns.append(j)\n",
    "                \n",
    "    for i in rows:\n",
    "        matrix[i] = 0\n",
    "    for j in columns:\n",
    "        matrix[:,j] = 0\n",
    "    return matrix"
   ]
  },
  {
   "cell_type": "code",
   "execution_count": 10,
   "metadata": {},
   "outputs": [
    {
     "data": {
      "text/plain": [
       "array([[43, 26, 12, 44, 52, 81, 38, 97, 15, 73, 67, 75, 57, 89, 78],\n",
       "       [31, 66, 94, 92, 14, 67, 94, 31, 41, 41, 47, 65, 10, 80, 54],\n",
       "       [78, 25, 97, 42, 29, 22, 51, 67, 95, 87, 43, 79, 82, 31, 56],\n",
       "       [ 1, 74, 31, 17, 19, 43, 12, 95, 99, 37, 91, 30, 73, 43, 30],\n",
       "       [49,  0, 37, 59, 37, 49, 82, 64, 11, 14, 31, 12, 48, 52, 55],\n",
       "       [85, 32, 61, 60, 63, 87, 64, 83,  5, 93, 90, 70, 88, 10, 25],\n",
       "       [27, 81, 93,  5, 42, 45, 93, 18,  6, 97, 31, 38, 29, 61, 32],\n",
       "       [95, 65, 40, 30, 59, 11, 50, 43,  3, 39,  9, 44, 66, 72, 14],\n",
       "       [56, 94, 86, 17, 25, 15, 33, 22, 10, 60, 79, 76, 92, 51, 98],\n",
       "       [85, 77, 22, 75, 32,  5, 52, 12, 46, 46, 13,  7, 32, 86, 94],\n",
       "       [ 4, 86, 85, 72, 79, 93, 11, 22, 44, 88, 83,  2,  0, 87, 47],\n",
       "       [45, 72, 27, 39,  3, 72, 93, 48, 11, 76, 27,  8, 96, 79, 20],\n",
       "       [47, 94, 33, 46,  9,  4, 54, 51, 94,  3, 97, 18, 51, 86, 15],\n",
       "       [43, 54, 14, 21,  0,  1, 64,  6, 73, 70, 60, 87, 91, 45,  6],\n",
       "       [74, 27, 13, 85, 27, 84, 44, 70, 82, 18, 11, 76, 85, 38, 38],\n",
       "       [54,  4, 48,  5, 26, 31, 46, 61, 86, 17, 74, 27, 31, 93, 91]])"
      ]
     },
     "execution_count": 10,
     "metadata": {},
     "output_type": "execute_result"
    }
   ],
   "source": [
    "mat = np.random.randint(100, size=(16,15))\n",
    "# mat[2,1] = 0\n",
    "# mat[5,8] = 0\n",
    "mat"
   ]
  },
  {
   "cell_type": "code",
   "execution_count": 11,
   "metadata": {},
   "outputs": [
    {
     "name": "stdout",
     "output_type": "stream",
     "text": [
      "Time:  0.00022136399999794776\n"
     ]
    },
    {
     "data": {
      "text/plain": [
       "array([[43,  0, 12, 44,  0, 81, 38, 97, 15, 73, 67, 75,  0, 89, 78],\n",
       "       [31,  0, 94, 92,  0, 67, 94, 31, 41, 41, 47, 65,  0, 80, 54],\n",
       "       [78,  0, 97, 42,  0, 22, 51, 67, 95, 87, 43, 79,  0, 31, 56],\n",
       "       [ 1,  0, 31, 17,  0, 43, 12, 95, 99, 37, 91, 30,  0, 43, 30],\n",
       "       [ 0,  0,  0,  0,  0,  0,  0,  0,  0,  0,  0,  0,  0,  0,  0],\n",
       "       [85,  0, 61, 60,  0, 87, 64, 83,  5, 93, 90, 70,  0, 10, 25],\n",
       "       [27,  0, 93,  5,  0, 45, 93, 18,  6, 97, 31, 38,  0, 61, 32],\n",
       "       [95,  0, 40, 30,  0, 11, 50, 43,  3, 39,  9, 44,  0, 72, 14],\n",
       "       [56,  0, 86, 17,  0, 15, 33, 22, 10, 60, 79, 76,  0, 51, 98],\n",
       "       [85,  0, 22, 75,  0,  5, 52, 12, 46, 46, 13,  7,  0, 86, 94],\n",
       "       [ 0,  0,  0,  0,  0,  0,  0,  0,  0,  0,  0,  0,  0,  0,  0],\n",
       "       [45,  0, 27, 39,  0, 72, 93, 48, 11, 76, 27,  8,  0, 79, 20],\n",
       "       [47,  0, 33, 46,  0,  4, 54, 51, 94,  3, 97, 18,  0, 86, 15],\n",
       "       [ 0,  0,  0,  0,  0,  0,  0,  0,  0,  0,  0,  0,  0,  0,  0],\n",
       "       [74,  0, 13, 85,  0, 84, 44, 70, 82, 18, 11, 76,  0, 38, 38],\n",
       "       [54,  0, 48,  5,  0, 31, 46, 61, 86, 17, 74, 27,  0, 93, 91]])"
      ]
     },
     "execution_count": 11,
     "metadata": {},
     "output_type": "execute_result"
    }
   ],
   "source": [
    "start = timeit.default_timer()\n",
    "zmat = zeroMatrix(mat)\n",
    "stop = timeit.default_timer()\n",
    "print('Time: ', stop-start)\n",
    "zmat"
   ]
  },
  {
   "cell_type": "code",
   "execution_count": null,
   "metadata": {},
   "outputs": [],
   "source": []
  }
 ],
 "metadata": {
  "kernelspec": {
   "display_name": "Python 3",
   "language": "python",
   "name": "python3"
  },
  "language_info": {
   "codemirror_mode": {
    "name": "ipython",
    "version": 3
   },
   "file_extension": ".py",
   "mimetype": "text/x-python",
   "name": "python",
   "nbconvert_exporter": "python",
   "pygments_lexer": "ipython3",
   "version": "3.7.3"
  }
 },
 "nbformat": 4,
 "nbformat_minor": 2
}
