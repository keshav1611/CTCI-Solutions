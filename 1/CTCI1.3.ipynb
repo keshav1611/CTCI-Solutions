{
 "cells": [
  {
   "cell_type": "code",
   "execution_count": 17,
   "metadata": {},
   "outputs": [],
   "source": [
    "import timeit"
   ]
  },
  {
   "cell_type": "code",
   "execution_count": 18,
   "metadata": {},
   "outputs": [],
   "source": [
    "def urlify(str, l):\n",
    "    if(l == 0):\n",
    "        return str\n",
    "    else:\n",
    "        strList = list(str)\n",
    "        for i in range(l):\n",
    "            if(strList[i] == ' '):\n",
    "                strList[i] = '%20'\n",
    "        return ''.join(strList).rstrip()"
   ]
  },
  {
   "cell_type": "code",
   "execution_count": 26,
   "metadata": {},
   "outputs": [
    {
     "name": "stdout",
     "output_type": "stream",
     "text": [
      "Mr%20John%20Smith\n",
      "Time:  0.00026749799997105583\n"
     ]
    }
   ],
   "source": [
    "start = timeit.default_timer()\n",
    "res = urlify('Mr John Smith    ',13)\n",
    "print(res)\n",
    "stop = timeit.default_timer()\n",
    "print('Time: ',stop - start)"
   ]
  },
  {
   "cell_type": "code",
   "execution_count": null,
   "metadata": {},
   "outputs": [],
   "source": []
  }
 ],
 "metadata": {
  "kernelspec": {
   "display_name": "Python 3",
   "language": "python",
   "name": "python3"
  },
  "language_info": {
   "codemirror_mode": {
    "name": "ipython",
    "version": 3
   },
   "file_extension": ".py",
   "mimetype": "text/x-python",
   "name": "python",
   "nbconvert_exporter": "python",
   "pygments_lexer": "ipython3",
   "version": "3.7.3"
  }
 },
 "nbformat": 4,
 "nbformat_minor": 2
}
