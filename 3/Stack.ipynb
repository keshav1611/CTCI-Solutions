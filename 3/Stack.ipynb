{
 "cells": [
  {
   "cell_type": "code",
   "execution_count": 117,
   "metadata": {},
   "outputs": [],
   "source": [
    "class StackNode:\n",
    "    \n",
    "    def __init__(self, value, nextNode=None):\n",
    "        self.value = value\n",
    "        self.next = nextNode\n",
    "        \n",
    "    def __str__(self):\n",
    "        return str(self.value)\n",
    "    \n",
    "class Stack:\n",
    "    \n",
    "    def __init__(self):\n",
    "        self.top = None\n",
    "        \n",
    "    def __iter__(self):\n",
    "        current = self.top\n",
    "        while current:\n",
    "            yield current\n",
    "            current = current.next\n",
    "        \n",
    "    def __str__(self):\n",
    "        values = [str(x) for x in self]\n",
    "        return ' -> '.join(values)\n",
    "    \n",
    "    def push(self, value):\n",
    "        newNode = StackNode(value)\n",
    "        newNode.next = self.top\n",
    "        self.top = newNode\n",
    "        \n",
    "    def pop(self):\n",
    "        if self.isEmpty():\n",
    "            raise Exception('Stack is empty.')\n",
    "        item = self.top.value\n",
    "        self.top = self.top.next\n",
    "        return item\n",
    "    \n",
    "    def peek(self):\n",
    "        if self.isEmpty():\n",
    "            raise Exception('Stack is empty.')\n",
    "        return self.top.value\n",
    "    \n",
    "    def isEmpty(self):\n",
    "        return self.top == None"
   ]
  },
  {
   "cell_type": "code",
   "execution_count": 118,
   "metadata": {},
   "outputs": [],
   "source": [
    "s = Stack()"
   ]
  },
  {
   "cell_type": "code",
   "execution_count": 119,
   "metadata": {},
   "outputs": [],
   "source": [
    "s.push(3)"
   ]
  },
  {
   "cell_type": "code",
   "execution_count": 120,
   "metadata": {},
   "outputs": [],
   "source": [
    "s.push(4)\n",
    "s.push(8)\n",
    "s.push(6)"
   ]
  },
  {
   "cell_type": "code",
   "execution_count": 121,
   "metadata": {},
   "outputs": [
    {
     "name": "stdout",
     "output_type": "stream",
     "text": [
      "6 -> 8 -> 4 -> 3\n"
     ]
    }
   ],
   "source": [
    "print(s)"
   ]
  },
  {
   "cell_type": "code",
   "execution_count": 99,
   "metadata": {},
   "outputs": [],
   "source": [
    "a = s.pop()"
   ]
  },
  {
   "cell_type": "code",
   "execution_count": 100,
   "metadata": {},
   "outputs": [
    {
     "name": "stdout",
     "output_type": "stream",
     "text": [
      "6\n"
     ]
    }
   ],
   "source": [
    "print(a)"
   ]
  },
  {
   "cell_type": "code",
   "execution_count": 103,
   "metadata": {},
   "outputs": [
    {
     "name": "stdout",
     "output_type": "stream",
     "text": [
      "8\n",
      "4\n",
      "3\n"
     ]
    }
   ],
   "source": [
    "for i in s:\n",
    "    print(i)"
   ]
  },
  {
   "cell_type": "code",
   "execution_count": null,
   "metadata": {},
   "outputs": [],
   "source": []
  }
 ],
 "metadata": {
  "kernelspec": {
   "display_name": "Python 3",
   "language": "python",
   "name": "python3"
  },
  "language_info": {
   "codemirror_mode": {
    "name": "ipython",
    "version": 3
   },
   "file_extension": ".py",
   "mimetype": "text/x-python",
   "name": "python",
   "nbconvert_exporter": "python",
   "pygments_lexer": "ipython3",
   "version": "3.7.3"
  }
 },
 "nbformat": 4,
 "nbformat_minor": 2
}
