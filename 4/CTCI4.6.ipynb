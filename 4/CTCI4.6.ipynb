{
 "cells": [
  {
   "cell_type": "code",
   "execution_count": 31,
   "metadata": {},
   "outputs": [],
   "source": [
    "def inOrder(tree):\n",
    "    if not tree.left:\n",
    "        return tree\n",
    "    suc = inOrder(tree.left)\n",
    "    return suc\n",
    "\n",
    "def getSuccessor(node):\n",
    "    if node.right:\n",
    "        return inOrder(node.right)\n",
    "    else:\n",
    "        while node and node.parent:\n",
    "            if node.parent.left == node:\n",
    "                return node.parent\n",
    "            node = node.parent\n",
    "        return Node()"
   ]
  },
  {
   "cell_type": "code",
   "execution_count": 37,
   "metadata": {},
   "outputs": [],
   "source": [
    "from BinaryTree import Node\n",
    "tree = Node().createRandomBalancedTree(12,1,90)"
   ]
  },
  {
   "cell_type": "code",
   "execution_count": 38,
   "metadata": {},
   "outputs": [
    {
     "name": "stdout",
     "output_type": "stream",
     "text": [
      "       ____49_____     \n",
      "      /           \\    \n",
      "   __32___       64___ \n",
      "  /       \\     /     \\\n",
      " 19_     42    62    90\n",
      "/   \\   /     /     /  \n",
      "6  20  36    57    76  \n"
     ]
    }
   ],
   "source": [
    "tree.display()"
   ]
  },
  {
   "cell_type": "code",
   "execution_count": 40,
   "metadata": {},
   "outputs": [
    {
     "name": "stdout",
     "output_type": "stream",
     "text": [
      "32\n"
     ]
    }
   ],
   "source": [
    "print(getSuccessor(tree.left.left.right).data)"
   ]
  },
  {
   "cell_type": "code",
   "execution_count": null,
   "metadata": {},
   "outputs": [],
   "source": []
  }
 ],
 "metadata": {
  "kernelspec": {
   "display_name": "Python 3",
   "language": "python",
   "name": "python3"
  },
  "language_info": {
   "codemirror_mode": {
    "name": "ipython",
    "version": 3
   },
   "file_extension": ".py",
   "mimetype": "text/x-python",
   "name": "python",
   "nbconvert_exporter": "python",
   "pygments_lexer": "ipython3",
   "version": "3.7.3"
  }
 },
 "nbformat": 4,
 "nbformat_minor": 2
}
