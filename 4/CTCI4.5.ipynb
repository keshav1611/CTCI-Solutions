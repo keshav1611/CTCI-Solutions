{
 "cells": [
  {
   "cell_type": "code",
   "execution_count": 7,
   "metadata": {},
   "outputs": [],
   "source": [
    "def validateBST(tree):\n",
    "    if not tree:\n",
    "        return float('-inf'), float('inf')\n",
    "    left_max, left_min = validateBST(tree.left)\n",
    "    right_max, right_min = validateBST(tree.right)\n",
    "    \n",
    "    if left_max == 'unbalanced' or right_max == 'unbalanced' or left_max > tree.data or right_min <= tree.data:\n",
    "        return 'unbalanced', 'unbalanced'\n",
    "    \n",
    "    return max(left_max, tree.data, right_max), min(left_min, tree.data, right_min)\n",
    "\n",
    "def checkBST(tree):\n",
    "    if validateBST(tree)[0] == 'unbalanced':\n",
    "        return 'Not a BST'\n",
    "    else:\n",
    "        return 'It is a BST'"
   ]
  },
  {
   "cell_type": "code",
   "execution_count": 8,
   "metadata": {},
   "outputs": [],
   "source": [
    "from BinaryTree import Node\n",
    "tree = Node()\n",
    "tree = tree.createRandomTree(40,1,300)"
   ]
  },
  {
   "cell_type": "code",
   "execution_count": 9,
   "metadata": {},
   "outputs": [
    {
     "name": "stdout",
     "output_type": "stream",
     "text": [
      "                          _______________________100______________________                           \n",
      "                         /                                                \\                          \n",
      "              __________200___________                         __________181____________             \n",
      "             /                        \\                       /                         \\            \n",
      "       _____224______            ____275_____             ___200______             ____188_______    \n",
      "      /              \\          /            \\           /            \\           /              \\   \n",
      "    _163___         132        291_         101_        64_          _2_        _240_          _78_  \n",
      "   /       \\       /   \\      /    \\       /    \\      /   \\        /   \\      /     \\        /    \\ \n",
      "  178     _3     _88   2     19   161     _5   46     10  122     _269 49     148   136     _110  171\n",
      " /       /      /           /            /           /           /           /             /         \n",
      "67      202    295         21           139         27          198         52            193        \n"
     ]
    }
   ],
   "source": [
    "tree.display()"
   ]
  },
  {
   "cell_type": "code",
   "execution_count": 10,
   "metadata": {},
   "outputs": [
    {
     "data": {
      "text/plain": [
       "'Not a BST'"
      ]
     },
     "execution_count": 10,
     "metadata": {},
     "output_type": "execute_result"
    }
   ],
   "source": [
    "checkBST(tree)"
   ]
  },
  {
   "cell_type": "code",
   "execution_count": 11,
   "metadata": {},
   "outputs": [],
   "source": [
    "bTree = Node()\n",
    "bTree = bTree.createRandomBalancedTree(10,1,10)"
   ]
  },
  {
   "cell_type": "code",
   "execution_count": 12,
   "metadata": {},
   "outputs": [
    {
     "name": "stdout",
     "output_type": "stream",
     "text": [
      "   __6__   \n",
      "  /     \\  \n",
      "  3_    9_ \n",
      " /  \\  /  \\\n",
      " 2  5  8 10\n",
      "/  /  /    \n",
      "1  4  7    \n"
     ]
    }
   ],
   "source": [
    "bTree.display()"
   ]
  },
  {
   "cell_type": "code",
   "execution_count": 13,
   "metadata": {},
   "outputs": [
    {
     "data": {
      "text/plain": [
       "'It is a BST'"
      ]
     },
     "execution_count": 13,
     "metadata": {},
     "output_type": "execute_result"
    }
   ],
   "source": [
    "checkBST(bTree)"
   ]
  },
  {
   "cell_type": "code",
   "execution_count": 14,
   "metadata": {},
   "outputs": [],
   "source": [
    "t = Node(10)\n",
    "t.left = Node(6)\n",
    "t.right = Node(22)\n",
    "t.left.left = Node(4)\n",
    "t.left.right = Node(8)\n",
    "t.left.left.left = Node(2)\n",
    "t.left.right.right = Node(11)\n",
    "t.right.left = Node(15)\n",
    "t.right.right = Node(144)"
   ]
  },
  {
   "cell_type": "code",
   "execution_count": 15,
   "metadata": {},
   "outputs": [
    {
     "name": "stdout",
     "output_type": "stream",
     "text": [
      "   ___10___    \n",
      "  /        \\   \n",
      "  6       22_  \n",
      " / \\     /   \\ \n",
      " 4 8_   15  144\n",
      "/    \\         \n",
      "2   11         \n"
     ]
    }
   ],
   "source": [
    "t.display()"
   ]
  },
  {
   "cell_type": "code",
   "execution_count": 16,
   "metadata": {},
   "outputs": [
    {
     "data": {
      "text/plain": [
       "'Not a BST'"
      ]
     },
     "execution_count": 16,
     "metadata": {},
     "output_type": "execute_result"
    }
   ],
   "source": [
    "checkBST(t)"
   ]
  },
  {
   "cell_type": "code",
   "execution_count": 17,
   "metadata": {},
   "outputs": [
    {
     "data": {
      "text/plain": [
       "'It is a BST'"
      ]
     },
     "execution_count": 17,
     "metadata": {},
     "output_type": "execute_result"
    }
   ],
   "source": [
    "checkBST(t.left)"
   ]
  },
  {
   "cell_type": "code",
   "execution_count": 18,
   "metadata": {},
   "outputs": [
    {
     "data": {
      "text/plain": [
       "'It is a BST'"
      ]
     },
     "execution_count": 18,
     "metadata": {},
     "output_type": "execute_result"
    }
   ],
   "source": [
    "checkBST(t.right)"
   ]
  },
  {
   "cell_type": "code",
   "execution_count": 19,
   "metadata": {},
   "outputs": [
    {
     "name": "stdout",
     "output_type": "stream",
     "text": [
      "  20\n",
      " /  \n",
      "20  \n"
     ]
    },
    {
     "data": {
      "text/plain": [
       "'It is a BST'"
      ]
     },
     "execution_count": 19,
     "metadata": {},
     "output_type": "execute_result"
    }
   ],
   "source": [
    "bt = Node(20)\n",
    "bt.left = Node(20)\n",
    "bt.display()\n",
    "checkBST(bt)"
   ]
  },
  {
   "cell_type": "code",
   "execution_count": 20,
   "metadata": {},
   "outputs": [
    {
     "name": "stdout",
     "output_type": "stream",
     "text": [
      "20_ \n",
      "   \\\n",
      "  20\n"
     ]
    },
    {
     "data": {
      "text/plain": [
       "'Not a BST'"
      ]
     },
     "execution_count": 20,
     "metadata": {},
     "output_type": "execute_result"
    }
   ],
   "source": [
    "bt = Node(20)\n",
    "bt.right = Node(20)\n",
    "bt.display()\n",
    "checkBST(bt)"
   ]
  },
  {
   "cell_type": "code",
   "execution_count": null,
   "metadata": {},
   "outputs": [],
   "source": []
  }
 ],
 "metadata": {
  "kernelspec": {
   "display_name": "Python 3",
   "language": "python",
   "name": "python3"
  },
  "language_info": {
   "codemirror_mode": {
    "name": "ipython",
    "version": 3
   },
   "file_extension": ".py",
   "mimetype": "text/x-python",
   "name": "python",
   "nbconvert_exporter": "python",
   "pygments_lexer": "ipython3",
   "version": "3.7.3"
  }
 },
 "nbformat": 4,
 "nbformat_minor": 2
}
