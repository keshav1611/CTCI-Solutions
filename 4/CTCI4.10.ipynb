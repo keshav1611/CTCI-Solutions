{
 "cells": [
  {
   "cell_type": "code",
   "execution_count": 7,
   "metadata": {},
   "outputs": [],
   "source": [
    "def compareTree(t1,t2):\n",
    "    if not(t1 or t2):\n",
    "        return True\n",
    "    if not t1 or not t2:\n",
    "        return False\n",
    "    if t1.data == t2.data:\n",
    "        return compareTree(t1.left,t2.left) and compareTree(t1.right,t2.right)\n",
    "    return False\n",
    "\n",
    "def checkSubtree(t1,t2):\n",
    "    if not t1:\n",
    "        return False\n",
    "    if compareTree(t1,t2):\n",
    "        return True\n",
    "    return checkSubtree(t1.left,t2) or checkSubtree(t1.right,t2)"
   ]
  },
  {
   "cell_type": "code",
   "execution_count": 19,
   "metadata": {},
   "outputs": [],
   "source": [
    "from BinaryTree import Node\n",
    "t1 = Node().createRandomTree(20,1,100)"
   ]
  },
  {
   "cell_type": "code",
   "execution_count": 20,
   "metadata": {},
   "outputs": [
    {
     "name": "stdout",
     "output_type": "stream",
     "text": [
      "           _______67_________        \n",
      "          /                  \\       \n",
      "     ____76____           __80____   \n",
      "    /          \\         /        \\  \n",
      "   71___       1_       87_      88_ \n",
      "  /     \\     /  \\     /   \\    /   \\\n",
      " 76    88    93 74    63  32    3  88\n",
      "/     /     /        /         /     \n",
      "5    33    88       56        15     \n"
     ]
    }
   ],
   "source": [
    "t1.display()"
   ]
  },
  {
   "cell_type": "code",
   "execution_count": 21,
   "metadata": {},
   "outputs": [
    {
     "data": {
      "text/plain": [
       "True"
      ]
     },
     "execution_count": 21,
     "metadata": {},
     "output_type": "execute_result"
    }
   ],
   "source": [
    "checkSubtree(t1,t1.left.right.left)"
   ]
  },
  {
   "cell_type": "code",
   "execution_count": 22,
   "metadata": {},
   "outputs": [
    {
     "data": {
      "text/plain": [
       "False"
      ]
     },
     "execution_count": 22,
     "metadata": {},
     "output_type": "execute_result"
    }
   ],
   "source": [
    "checkSubtree(t1,Node().createRandomTree(5,1,90))"
   ]
  },
  {
   "cell_type": "code",
   "execution_count": null,
   "metadata": {},
   "outputs": [],
   "source": []
  }
 ],
 "metadata": {
  "kernelspec": {
   "display_name": "Python 3",
   "language": "python",
   "name": "python3"
  },
  "language_info": {
   "codemirror_mode": {
    "name": "ipython",
    "version": 3
   },
   "file_extension": ".py",
   "mimetype": "text/x-python",
   "name": "python",
   "nbconvert_exporter": "python",
   "pygments_lexer": "ipython3",
   "version": "3.7.3"
  }
 },
 "nbformat": 4,
 "nbformat_minor": 2
}
