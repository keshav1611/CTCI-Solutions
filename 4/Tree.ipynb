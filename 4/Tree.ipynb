{
 "cells": [
  {
   "cell_type": "code",
   "execution_count": 1,
   "metadata": {},
   "outputs": [],
   "source": [
    "class Node:\n",
    "    def __init__(self, data):\n",
    "        self.data = data\n",
    "        self.left = ''\n",
    "        self.right = ''\n",
    "        \n",
    "    def __str__(self):\n",
    "        return '('+str(self.left)+':L ' + \"V:\" + str(self.data) + \" R:\" + str(self.right)+')'\n",
    "    \n",
    "    def PrintTree(self):\n",
    "        print(self.data)\n",
    "        \n",
    "        if self.left:\n",
    "            print(str(self.data)+\" Left: \",end='')\n",
    "            self.left.PrintTree()\n",
    "        \n",
    "        if self.right:\n",
    "            print(str(self.data)+\" Right: \",end='')\n",
    "            self.right.PrintTree()\n",
    "            \n",
    "    def insert(self, data):\n",
    "# Compare the new value with the parent node\n",
    "        if self.data:\n",
    "            if data < self.data:\n",
    "                if self.left is None:\n",
    "                    self.left = Node(data)\n",
    "                else:\n",
    "                    self.left.insert(data)\n",
    "            elif data > self.data:\n",
    "                if self.right is None:\n",
    "                    self.right = Node(data)\n",
    "                else:\n",
    "                    self.right.insert(data)\n",
    "        else:\n",
    "            self.data = data"
   ]
  },
  {
   "cell_type": "code",
   "execution_count": null,
   "metadata": {},
   "outputs": [],
   "source": []
  }
 ],
 "metadata": {
  "kernelspec": {
   "display_name": "Python 3",
   "language": "python",
   "name": "python3"
  },
  "language_info": {
   "codemirror_mode": {
    "name": "ipython",
    "version": 3
   },
   "file_extension": ".py",
   "mimetype": "text/x-python",
   "name": "python",
   "nbconvert_exporter": "python",
   "pygments_lexer": "ipython3",
   "version": "3.7.3"
  }
 },
 "nbformat": 4,
 "nbformat_minor": 2
}
