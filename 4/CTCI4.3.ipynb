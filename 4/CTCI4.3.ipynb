{
 "cells": [
  {
   "cell_type": "code",
   "execution_count": 1,
   "metadata": {},
   "outputs": [],
   "source": [
    "from BinaryTree import Node\n",
    "from LinkedList import LinkedList\n",
    "from collections import deque\n",
    "\n",
    "def listOfDepths(tree):\n",
    "    res = []\n",
    "    queue = deque()\n",
    "    queue.append(tree)\n",
    "    i = 1\n",
    "    depthDic = {tree:i}\n",
    "    ll = LinkedList()\n",
    "    #Implementing BFS\n",
    "    while queue:\n",
    "        e = queue.popleft()\n",
    "        if depthDic[e] > i:\n",
    "            res.append(ll)\n",
    "            ll = LinkedList([e.data])\n",
    "            i += 1\n",
    "        else:\n",
    "            ll.add(e.data) \n",
    "        if e.left:\n",
    "            queue.append(e.left)\n",
    "            depthDic[e.left] = depthDic[e]+1\n",
    "        if e.right:\n",
    "            queue.append(e.right)\n",
    "            depthDic[e.right] = depthDic[e]+1\n",
    "    res.append(ll)\n",
    "    return res"
   ]
  },
  {
   "cell_type": "code",
   "execution_count": 123,
   "metadata": {},
   "outputs": [],
   "source": [
    "tree = createTree([4,7,2,98,23,56,34,1,98,6,8])"
   ]
  },
  {
   "cell_type": "code",
   "execution_count": 124,
   "metadata": {},
   "outputs": [],
   "source": [
    "l = listOfDepths(tree)"
   ]
  },
  {
   "cell_type": "code",
   "execution_count": 125,
   "metadata": {},
   "outputs": [
    {
     "name": "stdout",
     "output_type": "stream",
     "text": [
      "56\n",
      "2 -> 98\n",
      "7 -> 23 -> 1 -> 8\n",
      "4 -> 98 -> 34 -> 6\n"
     ]
    }
   ],
   "source": [
    "for i in l:\n",
    "    print(i)"
   ]
  },
  {
   "cell_type": "code",
   "execution_count": 2,
   "metadata": {},
   "outputs": [],
   "source": [
    "n = Node()"
   ]
  },
  {
   "cell_type": "code",
   "execution_count": 3,
   "metadata": {},
   "outputs": [],
   "source": [
    "n = n.createRandomTree(20,0,100)"
   ]
  },
  {
   "cell_type": "code",
   "execution_count": 6,
   "metadata": {},
   "outputs": [
    {
     "name": "stdout",
     "output_type": "stream",
     "text": [
      "42\n",
      "42 Left: 24\n",
      "24 Left: 23\n",
      "23 Left: 14\n",
      "14 Left: 56\n",
      "23 Right: 26\n",
      "26 Left: 50\n",
      "24 Right: 89\n",
      "89 Left: 66\n",
      "66 Left: 11\n",
      "89 Right: 40\n",
      "42 Right: 68\n",
      "68 Left: 100\n",
      "100 Left: 91\n",
      "91 Left: 77\n",
      "100 Right: 20\n",
      "68 Right: 59\n",
      "59 Left: 33\n",
      "33 Left: 50\n",
      "59 Right: 78\n"
     ]
    }
   ],
   "source": [
    "n.PrintTree()"
   ]
  },
  {
   "cell_type": "code",
   "execution_count": 5,
   "metadata": {},
   "outputs": [
    {
     "name": "stdout",
     "output_type": "stream",
     "text": [
      "42\n",
      "24 -> 68\n",
      "23 -> 89 -> 100 -> 59\n",
      "14 -> 26 -> 66 -> 40 -> 91 -> 20 -> 33 -> 78\n",
      "56 -> 50 -> 11 -> 77 -> 50\n"
     ]
    }
   ],
   "source": [
    "l = listOfDepths(n)\n",
    "for i in l:\n",
    "    print(i)"
   ]
  },
  {
   "cell_type": "code",
   "execution_count": null,
   "metadata": {},
   "outputs": [],
   "source": []
  }
 ],
 "metadata": {
  "kernelspec": {
   "display_name": "Python 3",
   "language": "python",
   "name": "python3"
  },
  "language_info": {
   "codemirror_mode": {
    "name": "ipython",
    "version": 3
   },
   "file_extension": ".py",
   "mimetype": "text/x-python",
   "name": "python",
   "nbconvert_exporter": "python",
   "pygments_lexer": "ipython3",
   "version": "3.7.3"
  }
 },
 "nbformat": 4,
 "nbformat_minor": 2
}
