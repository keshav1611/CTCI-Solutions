{
 "cells": [
  {
   "cell_type": "code",
   "execution_count": 34,
   "metadata": {},
   "outputs": [],
   "source": [
    "def getDepth(node):\n",
    "    d = 0\n",
    "    while node:\n",
    "        node = node.parent\n",
    "        d += 1\n",
    "    return d\n",
    "\n",
    "def commonAncestor(n1,n2):\n",
    "    depth1 = getDepth(n1)\n",
    "    depth2 = getDepth(n2)\n",
    "    depth = abs(depth1-depth2)\n",
    "    deepNode = n1 if depth1>depth2 else n2\n",
    "    shallowNode = n2 if depth1>depth2 else n1\n",
    "    \n",
    "    while depth:\n",
    "        deepNode = deepNode.parent\n",
    "        depth -= 1\n",
    "        \n",
    "    while deepNode and shallowNode:\n",
    "        if deepNode == shallowNode:\n",
    "            return deepNode\n",
    "        deepNode = deepNode.parent\n",
    "        shallowNode = shallowNode.parent\n",
    "    \n",
    "    return Node()"
   ]
  },
  {
   "cell_type": "code",
   "execution_count": 35,
   "metadata": {},
   "outputs": [],
   "source": [
    "from BinaryTree import Node\n",
    "tree = Node().createRandomTree(10,1,23)"
   ]
  },
  {
   "cell_type": "code",
   "execution_count": 36,
   "metadata": {},
   "outputs": [
    {
     "name": "stdout",
     "output_type": "stream",
     "text": [
      "    ___14___   \n",
      "   /        \\  \n",
      "  23__     22_ \n",
      " /    \\   /   \\\n",
      " 6    9   6  18\n",
      "/    /   /     \n",
      "2   13   1     \n"
     ]
    }
   ],
   "source": [
    "tree.display()"
   ]
  },
  {
   "cell_type": "code",
   "execution_count": 43,
   "metadata": {},
   "outputs": [
    {
     "name": "stdout",
     "output_type": "stream",
     "text": [
      "23\n"
     ]
    }
   ],
   "source": [
    "print(commonAncestor(tree.left.left.left, tree.left.right).data)"
   ]
  },
  {
   "cell_type": "code",
   "execution_count": null,
   "metadata": {},
   "outputs": [],
   "source": []
  },
  {
   "cell_type": "code",
   "execution_count": null,
   "metadata": {},
   "outputs": [],
   "source": []
  }
 ],
 "metadata": {
  "kernelspec": {
   "display_name": "Python 3",
   "language": "python",
   "name": "python3"
  },
  "language_info": {
   "codemirror_mode": {
    "name": "ipython",
    "version": 3
   },
   "file_extension": ".py",
   "mimetype": "text/x-python",
   "name": "python",
   "nbconvert_exporter": "python",
   "pygments_lexer": "ipython3",
   "version": "3.7.3"
  }
 },
 "nbformat": 4,
 "nbformat_minor": 2
}
