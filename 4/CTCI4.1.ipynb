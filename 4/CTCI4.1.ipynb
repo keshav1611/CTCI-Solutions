{
 "cells": [
  {
   "cell_type": "code",
   "execution_count": 21,
   "metadata": {},
   "outputs": [],
   "source": [
    "from collections import deque\n",
    "def bfs(graph, start, end):\n",
    "    visited = {}\n",
    "    queue = deque()\n",
    "    queue.append(start)\n",
    "    visited[start] = True\n",
    "    while queue:\n",
    "        e = queue.popleft()\n",
    "        print(e)\n",
    "        if e == end:\n",
    "            return True\n",
    "        for a in graph[e]:\n",
    "            if a not in visited:\n",
    "                queue.append(a)\n",
    "                visited[a] = True\n",
    "    return False"
   ]
  },
  {
   "cell_type": "code",
   "execution_count": 55,
   "metadata": {},
   "outputs": [],
   "source": [
    "g = {0:[1,4,5],1:[3,4],2:[1],3:[2,4],4:[],5:[]}\n",
    "g1 = {0:[1],1:[2],2:[0,3],3:[2],4:[6],5:[4],6:[5]}"
   ]
  },
  {
   "cell_type": "code",
   "execution_count": 50,
   "metadata": {},
   "outputs": [],
   "source": [
    "def dfs(graph, start, end, visited):\n",
    "    visited[start] = True\n",
    "    res = False\n",
    "    print(start)\n",
    "    if start == end:\n",
    "        return True\n",
    "    for a in graph[start]:\n",
    "        if a not in visited:\n",
    "            res = dfs(graph, a, end, visited)\n",
    "            if res:\n",
    "                break\n",
    "    return res"
   ]
  },
  {
   "cell_type": "code",
   "execution_count": 53,
   "metadata": {},
   "outputs": [
    {
     "name": "stdout",
     "output_type": "stream",
     "text": [
      "0\n",
      "1\n",
      "4\n",
      "5\n"
     ]
    },
    {
     "data": {
      "text/plain": [
       "True"
      ]
     },
     "execution_count": 53,
     "metadata": {},
     "output_type": "execute_result"
    }
   ],
   "source": [
    "bfs(g,0,5)"
   ]
  },
  {
   "cell_type": "code",
   "execution_count": 54,
   "metadata": {},
   "outputs": [
    {
     "name": "stdout",
     "output_type": "stream",
     "text": [
      "0\n",
      "1\n",
      "3\n",
      "2\n",
      "4\n",
      "5\n"
     ]
    },
    {
     "data": {
      "text/plain": [
       "True"
      ]
     },
     "execution_count": 54,
     "metadata": {},
     "output_type": "execute_result"
    }
   ],
   "source": [
    "dfs(g,0,5,{})"
   ]
  },
  {
   "cell_type": "code",
   "execution_count": null,
   "metadata": {},
   "outputs": [],
   "source": []
  }
 ],
 "metadata": {
  "kernelspec": {
   "display_name": "Python 3",
   "language": "python",
   "name": "python3"
  },
  "language_info": {
   "codemirror_mode": {
    "name": "ipython",
    "version": 3
   },
   "file_extension": ".py",
   "mimetype": "text/x-python",
   "name": "python",
   "nbconvert_exporter": "python",
   "pygments_lexer": "ipython3",
   "version": "3.7.3"
  }
 },
 "nbformat": 4,
 "nbformat_minor": 2
}
