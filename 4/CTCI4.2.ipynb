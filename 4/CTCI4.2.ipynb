{
 "cells": [
  {
   "cell_type": "code",
   "execution_count": 94,
   "metadata": {},
   "outputs": [],
   "source": [
    "from collections import deque\n",
    "class Node:\n",
    "    def __init__(self, data):\n",
    "        self.data = data\n",
    "        self.left = ''\n",
    "        self.right = ''\n",
    "        \n",
    "    def __str__(self):\n",
    "        return '('+str(self.left)+':L ' + \"V:\" + str(self.data) + \" R:\" + str(self.right)+')'\n",
    "    \n",
    "    def PrintTree(self):\n",
    "        print(self.data)\n",
    "        \n",
    "        if self.left:\n",
    "            print(str(self.data)+\" Left: \",end='')\n",
    "            self.left.PrintTree()\n",
    "        \n",
    "        if self.right:\n",
    "            print(str(self.data)+\" Right: \",end='')\n",
    "            self.right.PrintTree()\n",
    "        \n",
    "def minimalTree(arr):\n",
    "    if not arr:\n",
    "        return ''\n",
    "    h = len(arr)\n",
    "    l = 0\n",
    "    mid = (h+l)//2\n",
    "    root = Node(arr[mid])\n",
    "    if h>1:\n",
    "        root.left = minimalTree(arr[l:mid])\n",
    "        root.right = minimalTree(arr[mid+1:h])\n",
    "    return root"
   ]
  },
  {
   "cell_type": "code",
   "execution_count": 95,
   "metadata": {},
   "outputs": [],
   "source": [
    "r = minimalTree([1,2,3,4,5,6,7])"
   ]
  },
  {
   "cell_type": "code",
   "execution_count": 96,
   "metadata": {},
   "outputs": [
    {
     "name": "stdout",
     "output_type": "stream",
     "text": [
      "4\n",
      "4 Left: 2\n",
      "2 Left: 1\n",
      "2 Right: 3\n",
      "4 Right: 6\n",
      "6 Left: 5\n",
      "6 Right: 7\n"
     ]
    }
   ],
   "source": [
    "r.PrintTree()"
   ]
  },
  {
   "cell_type": "code",
   "execution_count": 97,
   "metadata": {},
   "outputs": [
    {
     "name": "stdout",
     "output_type": "stream",
     "text": [
      "(((:L V:1 R:):L V:2 R:(:L V:3 R:)):L V:4 R:((:L V:5 R:):L V:6 R:(:L V:7 R:)))\n"
     ]
    }
   ],
   "source": [
    "print(r)"
   ]
  },
  {
   "cell_type": "code",
   "execution_count": null,
   "metadata": {},
   "outputs": [],
   "source": []
  }
 ],
 "metadata": {
  "kernelspec": {
   "display_name": "Python 3",
   "language": "python",
   "name": "python3"
  },
  "language_info": {
   "codemirror_mode": {
    "name": "ipython",
    "version": 3
   },
   "file_extension": ".py",
   "mimetype": "text/x-python",
   "name": "python",
   "nbconvert_exporter": "python",
   "pygments_lexer": "ipython3",
   "version": "3.7.3"
  }
 },
 "nbformat": 4,
 "nbformat_minor": 2
}
