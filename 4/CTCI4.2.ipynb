{
 "cells": [
  {
   "cell_type": "code",
   "execution_count": 14,
   "metadata": {},
   "outputs": [],
   "source": [
    "from collections import deque\n",
    "from BinaryTree import Node\n",
    "        \n",
    "def minimalTree(arr):\n",
    "    if not arr:\n",
    "        return ''\n",
    "    h = len(arr)\n",
    "    l = 0\n",
    "    mid = (h+l)//2\n",
    "    root = Node(arr[mid])\n",
    "    root.left = minimalTree(arr[l:mid])\n",
    "    root.right = minimalTree(arr[mid+1:h])\n",
    "    return root"
   ]
  },
  {
   "cell_type": "code",
   "execution_count": 15,
   "metadata": {},
   "outputs": [],
   "source": [
    "r = minimalTree([1, 2, 3, 4, 5, 6, 7, 8, 9, 10, 12, 15, 18, 22, 43, 144, 515, 4123])"
   ]
  },
  {
   "cell_type": "code",
   "execution_count": 16,
   "metadata": {},
   "outputs": [
    {
     "name": "stdout",
     "output_type": "stream",
     "text": [
      "10\n",
      "10 Left: 5\n",
      "5 Left: 3\n",
      "3 Left: 2\n",
      "2 Left: 1\n",
      "3 Right: 4\n",
      "5 Right: 8\n",
      "8 Left: 7\n",
      "7 Left: 6\n",
      "8 Right: 9\n",
      "10 Right: 43\n",
      "43 Left: 18\n",
      "18 Left: 15\n",
      "15 Left: 12\n",
      "18 Right: 22\n",
      "43 Right: 515\n",
      "515 Left: 144\n",
      "515 Right: 4123\n"
     ]
    }
   ],
   "source": [
    "r.PrintTree()"
   ]
  },
  {
   "cell_type": "code",
   "execution_count": 17,
   "metadata": {},
   "outputs": [
    {
     "name": "stdout",
     "output_type": "stream",
     "text": [
      "(((((:L V:1 R:):L V:2 R:):L V:3 R:(:L V:4 R:)):L V:5 R:(((:L V:6 R:):L V:7 R:):L V:8 R:(:L V:9 R:))):L V:10 R:((((:L V:12 R:):L V:15 R:):L V:18 R:(:L V:22 R:)):L V:43 R:((:L V:144 R:):L V:515 R:(:L V:4123 R:))))\n"
     ]
    }
   ],
   "source": [
    "print(r)"
   ]
  },
  {
   "cell_type": "code",
   "execution_count": null,
   "metadata": {},
   "outputs": [],
   "source": []
  }
 ],
 "metadata": {
  "kernelspec": {
   "display_name": "Python 3",
   "language": "python",
   "name": "python3"
  },
  "language_info": {
   "codemirror_mode": {
    "name": "ipython",
    "version": 3
   },
   "file_extension": ".py",
   "mimetype": "text/x-python",
   "name": "python",
   "nbconvert_exporter": "python",
   "pygments_lexer": "ipython3",
   "version": "3.7.3"
  }
 },
 "nbformat": 4,
 "nbformat_minor": 2
}
