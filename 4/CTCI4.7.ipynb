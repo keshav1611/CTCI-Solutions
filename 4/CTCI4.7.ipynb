{
 "cells": [
  {
   "cell_type": "code",
   "execution_count": 93,
   "metadata": {},
   "outputs": [],
   "source": [
    "from collections import deque\n",
    "\n",
    "def order(zeroInc, dependents, incEdges):\n",
    "    res = []\n",
    "    queue = deque(zeroInc)\n",
    "    while queue:\n",
    "        p = queue.popleft()\n",
    "        res.append(p)\n",
    "        if p in dependents:\n",
    "            for child in dependents[p]:\n",
    "                incEdges[child] -= 1\n",
    "                if incEdges[child] == 0:\n",
    "                    queue.append(child)\n",
    "    return res\n",
    "\n",
    "def buildOrder(projects, dependencies):\n",
    "    dependents = {}\n",
    "    antiDependents = {}\n",
    "    for pair in dependencies:\n",
    "#         Generating the graph of dependencies\n",
    "        if pair[0] in dependents:\n",
    "            dependents[pair[0]].append(pair[1])\n",
    "        else:\n",
    "            dependents[pair[0]] = [pair[1]]\n",
    "            \n",
    "#         Map for number of incoming edges for each project    \n",
    "        if pair[1] in antiDependents:\n",
    "            antiDependents[pair[1]] += 1\n",
    "        else:\n",
    "            antiDependents[pair[1]] = 1\n",
    "    \n",
    "    \n",
    "    noAntiDependents = set()\n",
    "    for p in projects:\n",
    "        if p not in antiDependents:\n",
    "            antiDependents[p] = 0\n",
    "            noAntiDependents.add(p)\n",
    "    print(dependents, antiDependents)\n",
    "    \n",
    "    res = order(noAntiDependents, dependents, antiDependents)\n",
    "\n",
    "#     If there is a cycle there will be no elements with zero incoming edges.\n",
    "    if len(res) != len(projects):\n",
    "        return 'No Valid Build order.'\n",
    "    return res"
   ]
  },
  {
   "cell_type": "code",
   "execution_count": 94,
   "metadata": {},
   "outputs": [
    {
     "name": "stdout",
     "output_type": "stream",
     "text": [
      "{'a': ['d'], 'f': ['b', 'a'], 'b': ['d'], 'd': ['c']} {'d': 2, 'b': 1, 'a': 1, 'c': 1, 'e': 0, 'f': 0}\n"
     ]
    },
    {
     "data": {
      "text/plain": [
       "['f', 'e', 'b', 'a', 'd', 'c']"
      ]
     },
     "execution_count": 94,
     "metadata": {},
     "output_type": "execute_result"
    }
   ],
   "source": [
    "buildOrder(['a','b','c','d','e','f'],[['a','d'],['f','b'],['b','d'],['f','a'],['d','c']])"
   ]
  },
  {
   "cell_type": "code",
   "execution_count": 95,
   "metadata": {},
   "outputs": [
    {
     "name": "stdout",
     "output_type": "stream",
     "text": [
      "{'a': ['e'], 'f': ['b', 'a', 'c'], 'b': ['a', 'e'], 'd': ['g'], 'c': ['a']} {'e': 2, 'b': 1, 'a': 3, 'g': 1, 'c': 1, 'd': 0, 'f': 0}\n"
     ]
    },
    {
     "data": {
      "text/plain": [
       "['f', 'd', 'b', 'c', 'g', 'a', 'e']"
      ]
     },
     "execution_count": 95,
     "metadata": {},
     "output_type": "execute_result"
    }
   ],
   "source": [
    "buildOrder(['a','b','c','d','e','f','g'],[['a','e'],['f','b'],['b','a'],['f','a'],['d','g'],['f','c'],['c','a'],['b','e']])"
   ]
  },
  {
   "cell_type": "code",
   "execution_count": 96,
   "metadata": {},
   "outputs": [
    {
     "name": "stdout",
     "output_type": "stream",
     "text": [
      "{'a': ['d'], 'b': ['f'], 'd': ['b', 'c'], 'f': ['a'], 'e': ['a']} {'d': 1, 'f': 1, 'b': 1, 'a': 2, 'c': 1, 'e': 0}\n"
     ]
    },
    {
     "data": {
      "text/plain": [
       "'No Valid Build order.'"
      ]
     },
     "execution_count": 96,
     "metadata": {},
     "output_type": "execute_result"
    }
   ],
   "source": [
    "buildOrder(['a','b','c','d','e','f'],[['a','d'],['b','f'],['d','b'],['f','a'],['d','c'],['e','a']])"
   ]
  },
  {
   "cell_type": "code",
   "execution_count": null,
   "metadata": {},
   "outputs": [],
   "source": []
  }
 ],
 "metadata": {
  "kernelspec": {
   "display_name": "Python 3",
   "language": "python",
   "name": "python3"
  },
  "language_info": {
   "codemirror_mode": {
    "name": "ipython",
    "version": 3
   },
   "file_extension": ".py",
   "mimetype": "text/x-python",
   "name": "python",
   "nbconvert_exporter": "python",
   "pygments_lexer": "ipython3",
   "version": "3.7.3"
  }
 },
 "nbformat": 4,
 "nbformat_minor": 2
}
