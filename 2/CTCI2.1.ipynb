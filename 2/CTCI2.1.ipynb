{
 "cells": [
  {
   "cell_type": "code",
   "execution_count": 41,
   "metadata": {},
   "outputs": [],
   "source": [
    "from LinkedList import LinkedList"
   ]
  },
  {
   "cell_type": "code",
   "execution_count": 46,
   "metadata": {},
   "outputs": [],
   "source": [
    "def removeDups(ll):\n",
    "    prev = None\n",
    "    current = ll.head\n",
    "    d = {}\n",
    "    while current != None:\n",
    "        if current.value not in d:\n",
    "            d[current.value] = 1\n",
    "            prev = current\n",
    "        else:\n",
    "            prev.next = current.next\n",
    "        current = current.next\n",
    "    return ll"
   ]
  },
  {
   "cell_type": "code",
   "execution_count": 48,
   "metadata": {},
   "outputs": [
    {
     "name": "stdout",
     "output_type": "stream",
     "text": [
      "3 -> 4 -> 2 -> 2 -> 8\n",
      "3 -> 4 -> 2 -> 8\n"
     ]
    }
   ],
   "source": [
    "ll = LinkedList()\n",
    "ll.generate(5, 0, 9)\n",
    "print(ll)\n",
    "removeDups(ll)\n",
    "print(ll)"
   ]
  },
  {
   "cell_type": "code",
   "execution_count": null,
   "metadata": {},
   "outputs": [],
   "source": []
  }
 ],
 "metadata": {
  "kernelspec": {
   "display_name": "Python 3",
   "language": "python",
   "name": "python3"
  },
  "language_info": {
   "codemirror_mode": {
    "name": "ipython",
    "version": 3
   },
   "file_extension": ".py",
   "mimetype": "text/x-python",
   "name": "python",
   "nbconvert_exporter": "python",
   "pygments_lexer": "ipython3",
   "version": "3.7.3"
  }
 },
 "nbformat": 4,
 "nbformat_minor": 2
}
