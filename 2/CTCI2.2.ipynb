{
 "cells": [
  {
   "cell_type": "code",
   "execution_count": 1,
   "metadata": {},
   "outputs": [],
   "source": [
    "from LinkedList import LinkedList"
   ]
  },
  {
   "cell_type": "code",
   "execution_count": 2,
   "metadata": {},
   "outputs": [],
   "source": [
    "def kElement(ll,k):\n",
    "    current = ll.head\n",
    "    size = 0\n",
    "    while current != None:\n",
    "        size += 1\n",
    "        current = current.next\n",
    "    \n",
    "    current = ll.head\n",
    "    for i in range(size-k):\n",
    "        current = current.next\n",
    "    \n",
    "    return current.value"
   ]
  },
  {
   "cell_type": "code",
   "execution_count": 10,
   "metadata": {},
   "outputs": [],
   "source": [
    "def kElement2Pointer(ll,k):\n",
    "    fast = ll.head\n",
    "    slow = ll.head\n",
    "    for i in range(k):\n",
    "        fast = fast.next\n",
    "    while fast != None:\n",
    "        slow = slow.next\n",
    "        fast = fast.next\n",
    "    return slow.value"
   ]
  },
  {
   "cell_type": "code",
   "execution_count": 13,
   "metadata": {},
   "outputs": [
    {
     "name": "stdout",
     "output_type": "stream",
     "text": [
      "25 -> 0 -> 4 -> 15 -> 32 -> 10 -> 19 -> 6 -> 22 -> 13\n",
      "32\n",
      "32\n"
     ]
    }
   ],
   "source": [
    "ll = LinkedList()\n",
    "ll.generate(10,0,40)\n",
    "print(ll)\n",
    "print(kElement(ll, 6))\n",
    "print(kElement2Pointer(ll, 6))"
   ]
  },
  {
   "cell_type": "code",
   "execution_count": null,
   "metadata": {},
   "outputs": [],
   "source": []
  }
 ],
 "metadata": {
  "kernelspec": {
   "display_name": "Python 3",
   "language": "python",
   "name": "python3"
  },
  "language_info": {
   "codemirror_mode": {
    "name": "ipython",
    "version": 3
   },
   "file_extension": ".py",
   "mimetype": "text/x-python",
   "name": "python",
   "nbconvert_exporter": "python",
   "pygments_lexer": "ipython3",
   "version": "3.7.3"
  }
 },
 "nbformat": 4,
 "nbformat_minor": 2
}
