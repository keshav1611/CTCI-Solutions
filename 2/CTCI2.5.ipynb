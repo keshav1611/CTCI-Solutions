{
 "cells": [
  {
   "cell_type": "code",
   "execution_count": 1,
   "metadata": {},
   "outputs": [],
   "source": [
    "from LinkedList import LinkedList"
   ]
  },
  {
   "cell_type": "code",
   "execution_count": 5,
   "metadata": {},
   "outputs": [],
   "source": [
    "def sumReverse(ll1, ll2):\n",
    "    current1 = ll1.head\n",
    "    current2 = ll2.head\n",
    "    i = 0\n",
    "    result = LinkedList()\n",
    "    firstNumber = 0\n",
    "    secondNumber = 0\n",
    "    \n",
    "    while current1 != None:\n",
    "        firstNumber += (10**i)*current1.value\n",
    "        current1 = current1.next\n",
    "        i += 1\n",
    "    i = 0\n",
    "    \n",
    "    while current2 != None:\n",
    "        secondNumber += (10**i)*current2.value\n",
    "        current2 = current2.next\n",
    "        i += 1\n",
    "        \n",
    "    sum = firstNumber + secondNumber\n",
    "    \n",
    "    while sum != 0:\n",
    "        digit = sum % 10\n",
    "        sum = sum // 10\n",
    "        result.add(digit)\n",
    "        \n",
    "    return result"
   ]
  },
  {
   "cell_type": "code",
   "execution_count": 16,
   "metadata": {},
   "outputs": [],
   "source": [
    "def sumForward(ll1, ll2):\n",
    "    current1 = ll1.head\n",
    "    current2 = ll2.head\n",
    "    i = 0\n",
    "    result = LinkedList()\n",
    "    firstNumber = 0\n",
    "    secondNumber = 0\n",
    "    \n",
    "    while current1 != None:\n",
    "        firstNumber = 10 * firstNumber + current1.value\n",
    "        current1 = current1.next\n",
    "        i += 1\n",
    "    i = 0\n",
    "    \n",
    "    while current2 != None:\n",
    "        secondNumber = 10 * secondNumber + current2.value\n",
    "        current2 = current2.next\n",
    "        i += 1\n",
    "        \n",
    "    sum = firstNumber + secondNumber\n",
    "    \n",
    "    while sum != 0:\n",
    "        digit = sum % 10\n",
    "        sum = sum // 10\n",
    "        result.add_to_beginning(digit)\n",
    "        \n",
    "    return result"
   ]
  },
  {
   "cell_type": "code",
   "execution_count": 24,
   "metadata": {},
   "outputs": [],
   "source": [
    "def sumReverse1(ll1, ll2):\n",
    "    current1 = ll1.head\n",
    "    current2 = ll2.head\n",
    "    result = LinkedList()\n",
    "    carry = 0\n",
    "    \n",
    "    while current1 != None or current2 != None:\n",
    "        sum = 0\n",
    "        if current1 == None:\n",
    "            sum = current2.value\n",
    "        elif current2 == None:\n",
    "            sum = current1.value\n",
    "        else:\n",
    "            sum = current1.value + current2.value + carry\n",
    "            carry = 0\n",
    "            if sum // 10 != 0:\n",
    "                result.add(sum%10)\n",
    "                carry = sum // 10\n",
    "            else:\n",
    "                result.add(sum%10)\n",
    "        current1 = current1.next\n",
    "        current2 = current2.next\n",
    "        \n",
    "    if carry != 0:\n",
    "        result.add(carry)\n",
    "        \n",
    "    return result"
   ]
  },
  {
   "cell_type": "code",
   "execution_count": 25,
   "metadata": {},
   "outputs": [
    {
     "name": "stdout",
     "output_type": "stream",
     "text": [
      "2 -> 1 -> 0 -> 1\n",
      "2 -> 1 -> 0 -> 1\n"
     ]
    }
   ],
   "source": [
    "ll1 = LinkedList()\n",
    "ll2 = LinkedList()\n",
    "ll1.add_multiple([7,1,7])\n",
    "ll2.add_multiple([5,9,2])\n",
    "print(sumReverse(ll1,ll2))\n",
    "print(sumReverse1(ll1,ll2))"
   ]
  },
  {
   "cell_type": "code",
   "execution_count": 18,
   "metadata": {},
   "outputs": [
    {
     "name": "stdout",
     "output_type": "stream",
     "text": [
      "9 -> 1 -> 2\n"
     ]
    }
   ],
   "source": [
    "ll1 = LinkedList()\n",
    "ll2 = LinkedList()\n",
    "ll1.add_multiple([6,1,7])\n",
    "ll2.add_multiple([2,9,5])\n",
    "print(sumForward(ll1,ll2))"
   ]
  },
  {
   "cell_type": "code",
   "execution_count": null,
   "metadata": {},
   "outputs": [],
   "source": []
  }
 ],
 "metadata": {
  "kernelspec": {
   "display_name": "Python 3",
   "language": "python",
   "name": "python3"
  },
  "language_info": {
   "codemirror_mode": {
    "name": "ipython",
    "version": 3
   },
   "file_extension": ".py",
   "mimetype": "text/x-python",
   "name": "python",
   "nbconvert_exporter": "python",
   "pygments_lexer": "ipython3",
   "version": "3.7.3"
  }
 },
 "nbformat": 4,
 "nbformat_minor": 2
}
