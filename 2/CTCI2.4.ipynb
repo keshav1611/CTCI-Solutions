{
 "cells": [
  {
   "cell_type": "code",
   "execution_count": 1,
   "metadata": {},
   "outputs": [],
   "source": [
    "from LinkedList import LinkedList"
   ]
  },
  {
   "cell_type": "code",
   "execution_count": 40,
   "metadata": {},
   "outputs": [],
   "source": [
    "def partition(ll, p):\n",
    "    small = None\n",
    "    current = ll.head\n",
    "    prev = None\n",
    "    while current != None and current.value < p:\n",
    "        small = current\n",
    "        prev = current\n",
    "        current = current.next\n",
    "    \n",
    "    while current != None:\n",
    "        if current.value < p:\n",
    "            prev.next = current.next\n",
    "            if small == None:\n",
    "                current.next = ll.head\n",
    "                ll.head = current\n",
    "                small = current\n",
    "            else:\n",
    "                current.next = small.next\n",
    "                small.next = current\n",
    "                small = small.next\n",
    "            current = prev.next\n",
    "        else:\n",
    "            prev = current\n",
    "            current = current.next"
   ]
  },
  {
   "cell_type": "code",
   "execution_count": 41,
   "metadata": {},
   "outputs": [],
   "source": [
    "def partition1(ll, p):\n",
    "    current = ll.head\n",
    "    prev = None\n",
    "    while current != None:\n",
    "        if current.value < p:\n",
    "            if current != ll.head:\n",
    "                prev.next = current.next\n",
    "                current.next = ll.head\n",
    "                ll.head = current\n",
    "            else:\n",
    "                prev = current\n",
    "        else:\n",
    "            prev = current\n",
    "        current = prev.next"
   ]
  },
  {
   "cell_type": "code",
   "execution_count": 42,
   "metadata": {},
   "outputs": [
    {
     "name": "stdout",
     "output_type": "stream",
     "text": [
      "2 -> 5 -> 8 -> 2 -> 6 -> 9 -> 2 -> 0 -> 3 -> 7 -> 3 -> 5 -> 7 -> 9 -> 0 -> 1 -> 6 -> 5 -> 4 -> 4 -> 2 -> 8 -> 5\n"
     ]
    }
   ],
   "source": [
    "ll = LinkedList()\n",
    "# ll.generate(100,0,50)\n",
    "ll.add_multiple([2,5,8,2,6,9,2,0,3,7,3,5,7,9,0,1,6,5,4,4,2,8,5])\n",
    "print(ll)"
   ]
  },
  {
   "cell_type": "code",
   "execution_count": 43,
   "metadata": {},
   "outputs": [
    {
     "name": "stdout",
     "output_type": "stream",
     "text": [
      "2 -> 2 -> 2 -> 0 -> 3 -> 3 -> 0 -> 1 -> 4 -> 4 -> 2 -> 5 -> 8 -> 6 -> 9 -> 7 -> 5 -> 7 -> 9 -> 6 -> 5 -> 8 -> 5\n"
     ]
    }
   ],
   "source": [
    "partition(ll, 5)\n",
    "print(ll)"
   ]
  },
  {
   "cell_type": "code",
   "execution_count": 44,
   "metadata": {},
   "outputs": [
    {
     "name": "stdout",
     "output_type": "stream",
     "text": [
      "2 -> 4 -> 4 -> 1 -> 0 -> 3 -> 3 -> 0 -> 2 -> 2 -> 2 -> 5 -> 8 -> 6 -> 9 -> 7 -> 5 -> 7 -> 9 -> 6 -> 5 -> 8 -> 5\n"
     ]
    }
   ],
   "source": [
    "partition1(ll, 5)\n",
    "print(ll)"
   ]
  },
  {
   "cell_type": "code",
   "execution_count": null,
   "metadata": {},
   "outputs": [],
   "source": []
  }
 ],
 "metadata": {
  "kernelspec": {
   "display_name": "Python 3",
   "language": "python",
   "name": "python3"
  },
  "language_info": {
   "codemirror_mode": {
    "name": "ipython",
    "version": 3
   },
   "file_extension": ".py",
   "mimetype": "text/x-python",
   "name": "python",
   "nbconvert_exporter": "python",
   "pygments_lexer": "ipython3",
   "version": "3.7.3"
  }
 },
 "nbformat": 4,
 "nbformat_minor": 2
}
